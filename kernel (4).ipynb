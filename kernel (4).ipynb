{
  "cells": [
    {
      "metadata": {
        "_uuid": "8f2839f25d086af736a60e9eeb907d3b93b6e0e5",
        "_cell_guid": "b1076dfc-b9ad-4769-8c92-a6c4dae69d19",
        "trusted": true
      },
      "cell_type": "code",
      "source": "import os\nprint(os.listdir(\"../input\"))",
      "execution_count": 48,
      "outputs": [
        {
          "output_type": "stream",
          "text": "['train-images-idx3-ubyte', 'train-labels-idx1-ubyte', 't10k-labels-idx1-ubyte', 'fashion-mnist_train.csv', 't10k-images-idx3-ubyte', 'fashion-mnist_test.csv']\n",
          "name": "stdout"
        }
      ]
    },
    {
      "metadata": {
        "_cell_guid": "79c7e3d0-c299-4dcb-8224-4455121ee9b0",
        "_uuid": "d629ff2d2480ee46fbb7e2d37f6b5fab8052498a",
        "trusted": true
      },
      "cell_type": "code",
      "source": "import numpy as np\nimport pandas as pd\nimport tensorflow as tf\nimport matplotlib.pyplot as plt\nfrom matplotlib import animation, rc",
      "execution_count": 49,
      "outputs": []
    },
    {
      "metadata": {
        "trusted": true,
        "_uuid": "2adfe4c9d5647a2c15db88348fd151bf38ef4a6f"
      },
      "cell_type": "code",
      "source": "data = pd.read_csv('../input/fashion-mnist_train.csv')\nprint('Dataframe Shape:', data.shape)",
      "execution_count": 50,
      "outputs": [
        {
          "output_type": "stream",
          "text": "Dataframe Shape: (60000, 785)\n",
          "name": "stdout"
        }
      ]
    },
    {
      "metadata": {
        "trusted": true,
        "_uuid": "0f3c450e8a8fa57d25c949ec8821a5e8e0053b2e"
      },
      "cell_type": "code",
      "source": "x = data.iloc[:, 1:].values\nprint('Feature matrix:\\n', x)\nprint('Shape of Feature matrix:', x.shape)",
      "execution_count": 51,
      "outputs": [
        {
          "output_type": "stream",
          "text": "Feature matrix:\n [[0 0 0 ... 0 0 0]\n [0 0 0 ... 0 0 0]\n [0 0 0 ... 0 0 0]\n ...\n [0 0 0 ... 0 0 0]\n [0 0 0 ... 0 0 0]\n [0 0 0 ... 0 0 0]]\nShape of Feature matrix: (60000, 784)\n",
          "name": "stdout"
        }
      ]
    },
    {
      "metadata": {
        "trusted": true,
        "_uuid": "11023e6722f2169ff65e51ad98d1e698f59f32dc"
      },
      "cell_type": "code",
      "source": "y = data.iloc[:, :1].values.flatten()\nprint('Labels:\\n', y)\nprint('Shape of Labels:', y.shape)",
      "execution_count": 52,
      "outputs": [
        {
          "output_type": "stream",
          "text": "Labels:\n [2 9 6 ... 8 8 7]\nShape of Labels: (60000,)\n",
          "name": "stdout"
        }
      ]
    },
    {
      "metadata": {
        "trusted": true,
        "_uuid": "9a8139200520c82d66f8d962476e41b10a57df5c"
      },
      "cell_type": "code",
      "source": "def display(index):\n    plt.imshow(x[index].reshape(28, 28), cmap = 'gray')\n    plt.title(str(y[index]))\n    plt.show()",
      "execution_count": 53,
      "outputs": []
    },
    {
      "metadata": {
        "trusted": true,
        "_uuid": "3dc11969a741f0c23873f5eb4259de1e54e9cbb6"
      },
      "cell_type": "code",
      "source": "display(1177)",
      "execution_count": 54,
      "outputs": [
        {
          "output_type": "display_data",
          "data": {
            "text/plain": "<Figure size 432x288 with 1 Axes>",
            "image/png": "[encoded data removed]"
          },
          "metadata": {
            "needs_background": "light"
          }
        }
      ]
    },
    {
      "metadata": {
        "trusted": true,
        "_uuid": "5c62f1b3a395a80d199055b68f2e1f98340fba0b"
      },
      "cell_type": "code",
      "source": "def one_hot_encode(y):\n    return np.eye(10)[y]\ny_encoded = one_hot_encode(y)\nprint('Shape of y after encoding:', y_encoded.shape)",
      "execution_count": 55,
      "outputs": [
        {
          "output_type": "stream",
          "text": "Shape of y after encoding: (60000, 10)\n",
          "name": "stdout"
        }
      ]
    },
    {
      "metadata": {
        "trusted": true,
        "_uuid": "3b3d48707f233621657c2221f61da284dcf5261e"
      },
      "cell_type": "code",
      "source": "from sklearn.cross_validation import train_test_split\nx_train, x_test, y_train, y_test = train_test_split(x, y_encoded, test_size=0.2, random_state = 42)",
      "execution_count": 56,
      "outputs": []
    },
    {
      "metadata": {
        "trusted": true,
        "_uuid": "9d27467bb98120076bad902ea031b923d44c2123"
      },
      "cell_type": "code",
      "source": "learning_rate = 0.001\nbatch_size = 128\nepochs = 3500\ndisplay_step = 100",
      "execution_count": 57,
      "outputs": []
    },
    {
      "metadata": {
        "trusted": true,
        "_uuid": "b4b966a80b6230cb818a68367e68d9575fcbfe73"
      },
      "cell_type": "code",
      "source": "n_inputs = 784\nnh1 = 1000\nnh2 = 1000\nnh3 = 1000\nnh4 = 1000\nnh5 = 1000\nn_outputs = 10",
      "execution_count": 58,
      "outputs": []
    },
    {
      "metadata": {
        "trusted": true,
        "_uuid": "997a6aa6b7a9fd622c989c37b5458f0af92405ab"
      },
      "cell_type": "code",
      "source": "X = tf.placeholder('float', [None, n_inputs])\nY = tf.placeholder('float', [None, n_outputs])",
      "execution_count": 59,
      "outputs": []
    },
    {
      "metadata": {
        "trusted": true,
        "_uuid": "5046c78c79e1cb9ebc696d3159badb7834bae469"
      },
      "cell_type": "code",
      "source": "weights = {\n    'w1' : tf.Variable(tf.random_normal([n_inputs, nh1])),\n    'w2' : tf.Variable(tf.random_normal([nh1, nh2])),\n    'w3' : tf.Variable(tf.random_normal([nh2, nh3])),\n    'w4' : tf.Variable(tf.random_normal([nh3, nh4])),\n    'w5' : tf.Variable(tf.random_normal([nh4, nh5])),\n    'out' : tf.Variable(tf.random_normal([nh5, n_outputs]))\n}",
      "execution_count": 60,
      "outputs": []
    },
    {
      "metadata": {
        "trusted": true,
        "_uuid": "731eb6635c10e9c940c6de53b1d07eb9d83c4142"
      },
      "cell_type": "code",
      "source": "biases = {\n    'b1' : tf.Variable(tf.random_normal([nh1])),\n    'b2' : tf.Variable(tf.random_normal([nh2])),\n    'b3' : tf.Variable(tf.random_normal([nh3])),\n    'b4' : tf.Variable(tf.random_normal([nh4])),\n    'b5' : tf.Variable(tf.random_normal([nh5])),\n    'out' : tf.Variable(tf.random_normal([n_outputs]))\n}",
      "execution_count": 61,
      "outputs": []
    },
    {
      "metadata": {
        "trusted": true,
        "_uuid": "6767fb673d17ac6938f2923582b92f124aee2030"
      },
      "cell_type": "code",
      "source": "def neural_network(x, weights, biases):\n    layer1 = tf.add(tf.matmul(x, weights['w1']), biases['b1'])\n    layer1=tf.nn.relu(layer1)\n    layer2 = tf.add(tf.matmul(layer1, weights['w2']), biases['b2'])\n    layer2=tf.nn.relu(layer2)\n    layer3 = tf.add(tf.matmul(layer2, weights['w3']), biases['b3'])\n    layer3=tf.nn.relu(layer3)\n    layer4 = tf.add(tf.matmul(layer3, weights['w4']), biases['b4'])\n    layer4=tf.nn.relu(layer4)\n    layer5 = tf.add(tf.matmul(layer4, weights['w5']), biases['b5'])\n    layer5=tf.nn.relu(layer5)\n    layer_out = tf.matmul(layer5, weights['out']) + biases['out']\n    return layer_out",
      "execution_count": 62,
      "outputs": []
    },
    {
      "metadata": {
        "trusted": true,
        "_uuid": "b611556b5ba82104bd6bebf6da41a71b993de899"
      },
      "cell_type": "code",
      "source": "logits = neural_network(X, weights, biases)\n\nloss_op = tf.reduce_mean(tf.nn.softmax_cross_entropy_with_logits(logits = logits, labels = Y))\n\noptimizer = tf.train.AdamOptimizer(learning_rate = learning_rate)\ntraining_op = optimizer.minimize(loss_op)\n\ncorrect_pred = tf.equal(tf.argmax(logits, 1), tf.argmax(Y, 1))\naccuracy = tf.reduce_mean(tf.cast(correct_pred, tf.float32))",
      "execution_count": 63,
      "outputs": []
    },
    {
      "metadata": {
        "trusted": true,
        "_uuid": "4665576ae22e27d852935bb0a733aa1114a42752"
      },
      "cell_type": "code",
      "source": "def next_batch(batch_size, data, labels):\n    idx = np.arange(0, len(data))\n    np.random.shuffle(idx)\n    idx = idx[: batch_size]\n    data_shuffle = [data[i] for i in idx]\n    labels_shuffle = [labels[i] for i in idx]\n    return np.asarray(data_shuffle), np.asarray(labels_shuffle)",
      "execution_count": 64,
      "outputs": []
    },
    {
      "metadata": {
        "trusted": true,
        "_uuid": "33781ab386dd7f0d5fe89107d6d2a4fae2466972"
      },
      "cell_type": "code",
      "source": "init = tf.global_variables_initializer()",
      "execution_count": 65,
      "outputs": []
    },
    {
      "metadata": {
        "trusted": true,
        "_uuid": "6a66e61fce879677309b27f68123da5370012732"
      },
      "cell_type": "code",
      "source": "with tf.Session() as sess:\n    \n    sess.run(init)\n    \n    cost_hist, acc_hist = [], []\n    \n    for epoch in range(1, epochs + 1):\n        batch_x, batch_y = next_batch(batch_size, x_train, y_train)\n        \n        sess.run(training_op, feed_dict = { X : batch_x, Y : batch_y })\n        \n        if epoch % display_step == 0:\n            c, acc = sess.run([loss_op, accuracy], feed_dict = { X : batch_x, Y : batch_y })\n            cost_hist.append(c)\n            acc_hist.append(acc)\n            print('Epoch ' + str(epoch) + ', Cost: ' + str(c) + ', Accuracy: ' + str(acc))\n    \n    W = sess.run(weights)\n    B = sess.run(biases)\n    print('Accuracy on train data: ' + str(sess.run(accuracy, feed_dict = { X : x_train, Y : y_train }) * 100) + ' %')\n    print('Accuracy on test data: ' + str(sess.run(accuracy, feed_dict = { X : x_test, Y : y_test }) * 100) + ' %')",
      "execution_count": 66,
      "outputs": [
        {
          "output_type": "stream",
          "text": "Epoch 100, Cost: 983142000.0, Accuracy: 0.7109375\nEpoch 200, Cost: 651700500.0, Accuracy: 0.765625\nEpoch 300, Cost: 368251070.0, Accuracy: 0.8125\nEpoch 400, Cost: 243299250.0, Accuracy: 0.828125\nEpoch 500, Cost: 323876030.0, Accuracy: 0.890625\nEpoch 600, Cost: 284746400.0, Accuracy: 0.859375\nEpoch 700, Cost: 196723520.0, Accuracy: 0.8828125\nEpoch 800, Cost: 151473420.0, Accuracy: 0.8828125\nEpoch 900, Cost: 203084320.0, Accuracy: 0.859375\nEpoch 1000, Cost: 79177224.0, Accuracy: 0.9296875\nEpoch 1100, Cost: 116093980.0, Accuracy: 0.8828125\nEpoch 1200, Cost: 250638600.0, Accuracy: 0.8671875\nEpoch 1300, Cost: 215483580.0, Accuracy: 0.828125\nEpoch 1400, Cost: 81957130.0, Accuracy: 0.921875\nEpoch 1500, Cost: 53255380.0, Accuracy: 0.90625\nEpoch 1600, Cost: 44983896.0, Accuracy: 0.953125\nEpoch 1700, Cost: 59343390.0, Accuracy: 0.9375\nEpoch 1800, Cost: 132027096.0, Accuracy: 0.8828125\nEpoch 1900, Cost: 68422070.0, Accuracy: 0.921875\nEpoch 2000, Cost: 27411374.0, Accuracy: 0.953125\nEpoch 2100, Cost: 106330510.0, Accuracy: 0.875\nEpoch 2200, Cost: 91714430.0, Accuracy: 0.8828125\nEpoch 2300, Cost: 84447810.0, Accuracy: 0.9296875\nEpoch 2400, Cost: 42519190.0, Accuracy: 0.9375\nEpoch 2500, Cost: 62898424.0, Accuracy: 0.9296875\nEpoch 2600, Cost: 21274720.0, Accuracy: 0.9609375\nEpoch 2700, Cost: 43670696.0, Accuracy: 0.9296875\nEpoch 2800, Cost: 57304376.0, Accuracy: 0.9375\nEpoch 2900, Cost: 42748230.0, Accuracy: 0.9453125\nEpoch 3000, Cost: 66228696.0, Accuracy: 0.921875\nEpoch 3100, Cost: 57024504.0, Accuracy: 0.9453125\nEpoch 3200, Cost: 39875228.0, Accuracy: 0.9453125\nEpoch 3300, Cost: 8087072.0, Accuracy: 0.984375\nEpoch 3400, Cost: 9759464.0, Accuracy: 0.9609375\nEpoch 3500, Cost: 44144770.0, Accuracy: 0.953125\nAccuracy on train data: 92.05625057220459 %\nAccuracy on test data: 83.39999914169312 %\n",
          "name": "stdout"
        }
      ]
    },
    {
      "metadata": {
        "trusted": true,
        "_uuid": "93f139c6c2bdafa3064d94de8a68c9ff5a75b08c"
      },
      "cell_type": "code",
      "source": "",
      "execution_count": null,
      "outputs": []
    }
  ],
  "metadata": {
    "kernelspec": {
      "display_name": "Python 3",
      "language": "python",
      "name": "python3"
    },
    "language_info": {
      "name": "python",
      "version": "3.6.6",
      "mimetype": "text/x-python",
      "codemirror_mode": {
        "name": "ipython",
        "version": 3
      },
      "pygments_lexer": "ipython3",
      "nbconvert_exporter": "python",
      "file_extension": ".py"
    }
  },
  "nbformat": 4,
  "nbformat_minor": 1
}